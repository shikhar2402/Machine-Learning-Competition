{
  "nbformat": 4,
  "nbformat_minor": 0,
  "metadata": {
    "colab": {
      "name": "Novartis_Data_Science.ipynb",
      "provenance": []
    },
    "kernelspec": {
      "name": "python3",
      "display_name": "Python 3"
    }
  },
  "cells": [
    {
      "cell_type": "code",
      "metadata": {
        "id": "LiMauZvSDirs",
        "colab_type": "code",
        "colab": {}
      },
      "source": [
        "import pandas as pd\n",
        "import matplotlib.pyplot as plt\n",
        "import numpy as np\n",
        "import seaborn as sns\n",
        "\n",
        "train=pd.read_csv('Train.csv')\n",
        "test=pd.read_csv('Test.csv')"
      ],
      "execution_count": 0,
      "outputs": []
    },
    {
      "cell_type": "code",
      "metadata": {
        "id": "94BXp_qbDwwb",
        "colab_type": "code",
        "outputId": "104947d4-ec68-4b3e-e1b9-f2dae96dcf72",
        "colab": {
          "base_uri": "https://localhost:8080/",
          "height": 374
        }
      },
      "source": [
        "\n",
        "data = train.append(test, ignore_index=True,sort=False)\n",
        "\n",
        "des=data.describe()\n",
        "\n",
        "sns.heatmap(data.corr())"
      ],
      "execution_count": 18,
      "outputs": [
        {
          "output_type": "execute_result",
          "data": {
            "text/plain": [
              "<matplotlib.axes._subplots.AxesSubplot at 0x7f51d1efbf60>"
            ]
          },
          "metadata": {
            "tags": []
          },
          "execution_count": 18
        },
        {
          "output_type": "display_data",
          "data": {
            "image/png": "[encoded data removed]",
            "text/plain": [
              "<Figure size 432x288 with 2 Axes>"
            ]
          },
          "metadata": {
            "tags": [],
            "needs_background": "light"
          }
        }
      ]
    },
    {
      "cell_type": "code",
      "metadata": {
        "id": "OkghDYLPDw4-",
        "colab_type": "code",
        "colab": {}
      },
      "source": [
        "\n",
        "\n",
        "\n",
        "data[\"Date\"] = data[\"DATE\"].apply(lambda x: x[0:2])\n",
        "data[\"Month\"] = data[\"DATE\"].apply(lambda x: x[3:6])\n",
        "data[\"Year\"] = data[\"DATE\"].apply(lambda x: x[7:])\n",
        "\n",
        "\n",
        "data[\"Month\"]=data[\"Month\"].map({\"JAN\" : '01' , \"FEB\" : '02' ,\"MAR\" : '03' ,\"APR\" : '04' ,\"MAY\" : '05' ,\n",
        "              \"JUN\" : '06' ,\"JUL\" : '07' ,\"AUG\" : '08' ,\"SEP\" : '09' ,\"OCT\" : '10' ,\"NOV\" : '11',\"DEC\" : '12' })\n",
        "\n",
        "def a(x):\n",
        "    if x<=\"22\":\n",
        "        return \"20\"+x\n",
        "    else:\n",
        "        return \"19\"+x\n",
        "\n",
        "\n",
        "data[\"Year2\"]=data[\"Year\"].apply(a)"
      ],
      "execution_count": 0,
      "outputs": []
    },
    {
      "cell_type": "code",
      "metadata": {
        "id": "IICr4ATCDxBh",
        "colab_type": "code",
        "colab": {}
      },
      "source": [
        "\n",
        "\n",
        "\n",
        "data[\"Date2\"]=data['Date'].map(str) + '-' + data['Month'].map(str) + '-' + data['Year2'].map(str)\n",
        "\n",
        "data[\"Date2\"] = pd.to_datetime(data[\"Date2\"], format='%d-%m-%Y')\n",
        "\n",
        "data['Dayofweek'] = pd.to_datetime(data['Date2']).dt.dayofweek\n",
        "\n",
        "data['DayOfyear'] = pd.to_datetime(data['Date2']).dt.dayofyear\n",
        "\n",
        "data['Week'] = pd.to_datetime(data['Date2']).dt.week\n",
        "\n",
        "data['Quarter'] = pd.to_datetime(data['Date2']).dt.quarter \n",
        "\n",
        "data['Is_month_start'] = pd.to_datetime(data['Date2']).dt.is_month_start\n",
        "\n",
        "data['Is_month_end'] = pd.to_datetime(data['Date2']).dt.is_month_end\n",
        "\n",
        "data['Is_quarter_start'] = pd.to_datetime(data['Date2']).dt.is_quarter_start\n",
        "\n",
        "data['Is_quarter_end'] = pd.to_datetime(data['Date2']).dt.is_quarter_end\n",
        "\n",
        "data['Is_year_start'] = pd.to_datetime(data['Date2']).dt.is_year_start\n",
        "\n",
        "data['Is_year_end'] = pd.to_datetime(data['Date2']).dt.is_year_end\n",
        "\n",
        "data['Is_weekend'] = np.where(data['Dayofweek'].isin([5,6]),1,0)\n",
        "\n",
        "data['Is_weekday'] = np.where(data['Dayofweek'].isin([0,1,2,3,4]),1,0)\n",
        "\n",
        "data[\"Is_month_start\"] = data[\"Is_month_start\"].astype(int)\n",
        "data[\"Is_month_end\"] = data[\"Is_month_end\"].astype(int)\n",
        "data[\"Is_quarter_start\"] = data[\"Is_quarter_start\"].astype(int)\n",
        "data[\"Is_quarter_end\"] = data[\"Is_quarter_end\"].astype(int)\n",
        "data[\"Is_year_start\"] = data[\"Is_year_start\"].astype(int)\n",
        "data[\"Is_year_end\"] = data[\"Is_year_end\"].astype(int)"
      ],
      "execution_count": 0,
      "outputs": []
    },
    {
      "cell_type": "code",
      "metadata": {
        "id": "Mx2vPG66DxD2",
        "colab_type": "code",
        "colab": {}
      },
      "source": [
        "data[\"X_12\"].fillna(1,inplace =True)"
      ],
      "execution_count": 0,
      "outputs": []
    },
    {
      "cell_type": "code",
      "metadata": {
        "id": "QvmIH42JDxIJ",
        "colab_type": "code",
        "outputId": "b35723db-6a00-45f9-9047-766b65ddc994",
        "colab": {
          "base_uri": "https://localhost:8080/",
          "height": 719
        }
      },
      "source": [
        "data.info()"
      ],
      "execution_count": 22,
      "outputs": [
        {
          "output_type": "stream",
          "text": [
            "<class 'pandas.core.frame.DataFrame'>\n",
            "RangeIndex: 39759 entries, 0 to 39758\n",
            "Data columns (total 35 columns):\n",
            " #   Column            Non-Null Count  Dtype         \n",
            "---  ------            --------------  -----         \n",
            " 0   INCIDENT_ID       39759 non-null  object        \n",
            " 1   DATE              39759 non-null  object        \n",
            " 2   X_1               39759 non-null  int64         \n",
            " 3   X_2               39759 non-null  int64         \n",
            " 4   X_3               39759 non-null  int64         \n",
            " 5   X_4               39759 non-null  int64         \n",
            " 6   X_5               39759 non-null  int64         \n",
            " 7   X_6               39759 non-null  int64         \n",
            " 8   X_7               39759 non-null  int64         \n",
            " 9   X_8               39759 non-null  int64         \n",
            " 10  X_9               39759 non-null  int64         \n",
            " 11  X_10              39759 non-null  int64         \n",
            " 12  X_11              39759 non-null  int64         \n",
            " 13  X_12              39759 non-null  float64       \n",
            " 14  X_13              39759 non-null  int64         \n",
            " 15  X_14              39759 non-null  int64         \n",
            " 16  X_15              39759 non-null  int64         \n",
            " 17  MULTIPLE_OFFENSE  23856 non-null  float64       \n",
            " 18  Date              39759 non-null  object        \n",
            " 19  Month             39759 non-null  object        \n",
            " 20  Year              39759 non-null  object        \n",
            " 21  Year2             39759 non-null  object        \n",
            " 22  Date2             39759 non-null  datetime64[ns]\n",
            " 23  Dayofweek         39759 non-null  int64         \n",
            " 24  DayOfyear         39759 non-null  int64         \n",
            " 25  Week              39759 non-null  int64         \n",
            " 26  Quarter           39759 non-null  int64         \n",
            " 27  Is_month_start    39759 non-null  int64         \n",
            " 28  Is_month_end      39759 non-null  int64         \n",
            " 29  Is_quarter_start  39759 non-null  int64         \n",
            " 30  Is_quarter_end    39759 non-null  int64         \n",
            " 31  Is_year_start     39759 non-null  int64         \n",
            " 32  Is_year_end       39759 non-null  int64         \n",
            " 33  Is_weekend        39759 non-null  int64         \n",
            " 34  Is_weekday        39759 non-null  int64         \n",
            "dtypes: datetime64[ns](1), float64(2), int64(26), object(6)\n",
            "memory usage: 10.6+ MB\n"
          ],
          "name": "stdout"
        }
      ]
    },
    {
      "cell_type": "code",
      "metadata": {
        "id": "M4Uxhc58Fx8E",
        "colab_type": "code",
        "colab": {}
      },
      "source": [
        "\n",
        "data.drop(columns=['INCIDENT_ID' , 'DATE' , 'Date2' , 'Year'] , inplace =True)\n"
      ],
      "execution_count": 0,
      "outputs": []
    },
    {
      "cell_type": "code",
      "metadata": {
        "id": "i8fHXqVrDxJy",
        "colab_type": "code",
        "outputId": "27bf0b32-b47c-43d9-8369-d5e7e257a794",
        "colab": {
          "base_uri": "https://localhost:8080/",
          "height": 100
        }
      },
      "source": [
        "\n",
        "data[\"Month\"] = data[\"Month\"].astype('category')\n",
        "data[\"Date\"] = data[\"Date\"].astype('category')\n",
        "data[\"Year2\"] = data[\"Year2\"].astype('category')\n",
        "x_test=data[23856:]\n",
        "X_train=data[:23856]\n",
        "\n",
        "Y_train=X_train[\"MULTIPLE_OFFENSE\"].values\n",
        "\n",
        "X_train.drop(columns=\"MULTIPLE_OFFENSE\" , inplace =True)"
      ],
      "execution_count": 24,
      "outputs": [
        {
          "output_type": "stream",
          "text": [
            "/usr/local/lib/python3.6/dist-packages/pandas/core/frame.py:3997: SettingWithCopyWarning: \n",
            "A value is trying to be set on a copy of a slice from a DataFrame\n",
            "\n",
            "See the caveats in the documentation: https://pandas.pydata.org/pandas-docs/stable/user_guide/indexing.html#returning-a-view-versus-a-copy\n",
            "  errors=errors,\n"
          ],
          "name": "stderr"
        }
      ]
    },
    {
      "cell_type": "code",
      "metadata": {
        "id": "M0RMfkiBDxVD",
        "colab_type": "code",
        "outputId": "91b97262-c7a2-4aee-9d4a-fde3d6ca43c4",
        "colab": {
          "base_uri": "https://localhost:8080/",
          "height": 33
        }
      },
      "source": [
        "len(x_test)"
      ],
      "execution_count": 25,
      "outputs": [
        {
          "output_type": "execute_result",
          "data": {
            "text/plain": [
              "15903"
            ]
          },
          "metadata": {
            "tags": []
          },
          "execution_count": 25
        }
      ]
    },
    {
      "cell_type": "code",
      "metadata": {
        "id": "2GpZbK9XDxQr",
        "colab_type": "code",
        "colab": {}
      },
      "source": [
        "   \n",
        "import pandas as pd\n",
        "import numpy as np\n",
        "from sklearn.preprocessing import LabelEncoder\n",
        "from sklearn.model_selection import train_test_split, KFold, StratifiedKFold\n",
        "from lightgbm import LGBMClassifier\n",
        "from sklearn.metrics import f1_score\n",
        "from imblearn.over_sampling import SMOTE\n",
        "from collections import Counter\n",
        "import warnings"
      ],
      "execution_count": 0,
      "outputs": []
    },
    {
      "cell_type": "code",
      "metadata": {
        "id": "yh4Nyt7dLkHh",
        "colab_type": "code",
        "colab": {}
      },
      "source": [
        ""
      ],
      "execution_count": 0,
      "outputs": []
    },
    {
      "cell_type": "code",
      "metadata": {
        "id": "X535V-Q6HYwj",
        "colab_type": "code",
        "outputId": "95d90686-9736-4602-cbaf-a76950cc5f8f",
        "colab": {
          "base_uri": "https://localhost:8080/",
          "height": 652
        }
      },
      "source": [
        "data.info()"
      ],
      "execution_count": 27,
      "outputs": [
        {
          "output_type": "stream",
          "text": [
            "<class 'pandas.core.frame.DataFrame'>\n",
            "RangeIndex: 39759 entries, 0 to 39758\n",
            "Data columns (total 31 columns):\n",
            " #   Column            Non-Null Count  Dtype   \n",
            "---  ------            --------------  -----   \n",
            " 0   X_1               39759 non-null  int64   \n",
            " 1   X_2               39759 non-null  int64   \n",
            " 2   X_3               39759 non-null  int64   \n",
            " 3   X_4               39759 non-null  int64   \n",
            " 4   X_5               39759 non-null  int64   \n",
            " 5   X_6               39759 non-null  int64   \n",
            " 6   X_7               39759 non-null  int64   \n",
            " 7   X_8               39759 non-null  int64   \n",
            " 8   X_9               39759 non-null  int64   \n",
            " 9   X_10              39759 non-null  int64   \n",
            " 10  X_11              39759 non-null  int64   \n",
            " 11  X_12              39759 non-null  float64 \n",
            " 12  X_13              39759 non-null  int64   \n",
            " 13  X_14              39759 non-null  int64   \n",
            " 14  X_15              39759 non-null  int64   \n",
            " 15  MULTIPLE_OFFENSE  23856 non-null  float64 \n",
            " 16  Date              39759 non-null  category\n",
            " 17  Month             39759 non-null  category\n",
            " 18  Year2             39759 non-null  category\n",
            " 19  Dayofweek         39759 non-null  int64   \n",
            " 20  DayOfyear         39759 non-null  int64   \n",
            " 21  Week              39759 non-null  int64   \n",
            " 22  Quarter           39759 non-null  int64   \n",
            " 23  Is_month_start    39759 non-null  int64   \n",
            " 24  Is_month_end      39759 non-null  int64   \n",
            " 25  Is_quarter_start  39759 non-null  int64   \n",
            " 26  Is_quarter_end    39759 non-null  int64   \n",
            " 27  Is_year_start     39759 non-null  int64   \n",
            " 28  Is_year_end       39759 non-null  int64   \n",
            " 29  Is_weekend        39759 non-null  int64   \n",
            " 30  Is_weekday        39759 non-null  int64   \n",
            "dtypes: category(3), float64(2), int64(26)\n",
            "memory usage: 8.6 MB\n"
          ],
          "name": "stdout"
        }
      ]
    },
    {
      "cell_type": "code",
      "metadata": {
        "id": "5gsxdDYVDxOJ",
        "colab_type": "code",
        "outputId": "adaf13d0-9b93-48d9-fead-3333f92c744b",
        "colab": {
          "base_uri": "https://localhost:8080/",
          "height": 555
        }
      },
      "source": [
        "\n",
        "kfold, scores = KFold(n_splits=5, shuffle=True, random_state=0), list()\n",
        "for train_index, test_index in kfold.split(X_train,Y_train):\n",
        "    x_train, x_test =X_train.iloc[train_index], X_train.iloc[test_index]\n",
        "    y_train, y_test = Y_train[train_index], Y_train[test_index]\n",
        "    \n",
        "    num_class1, num_class2 = Counter(y_train)[1], Counter(y_train)[0]\n",
        "    sm = SMOTE(random_state=27, sampling_strategy={1: int(1.0*num_class1), 0: int(2.0*num_class2)})\n",
        "    x_train, y_train = sm.fit_resample(x_train, y_train)\n",
        "    model = LGBMClassifier(random_state=27, max_depth=6, n_estimators=400)\n",
        "    model.fit(x_train, y_train,  categorical_feature=[18, 16, 17])\n",
        "    preds = model.predict(x_test)\n",
        "    score = f1_score(y_test, preds, average=\"weighted\")\n",
        "    scores.append(score)\n",
        "    print(score)\n",
        "print(\"Average: \", sum(scores)/len(scores))\n",
        "\n"
      ],
      "execution_count": 28,
      "outputs": [
        {
          "output_type": "stream",
          "text": [
            "/usr/local/lib/python3.6/dist-packages/sklearn/utils/deprecation.py:87: FutureWarning: Function safe_indexing is deprecated; safe_indexing is deprecated in version 0.22 and will be removed in version 0.24.\n",
            "  warnings.warn(msg, category=FutureWarning)\n",
            "/usr/local/lib/python3.6/dist-packages/lightgbm/basic.py:1209: UserWarning: categorical_feature in Dataset is overridden.\n",
            "New categorical_feature is [16, 17, 18]\n",
            "  'New categorical_feature is {}'.format(sorted(list(categorical_feature))))\n"
          ],
          "name": "stderr"
        },
        {
          "output_type": "stream",
          "text": [
            "0.9995818082053569\n"
          ],
          "name": "stdout"
        },
        {
          "output_type": "stream",
          "text": [
            "/usr/local/lib/python3.6/dist-packages/sklearn/utils/deprecation.py:87: FutureWarning: Function safe_indexing is deprecated; safe_indexing is deprecated in version 0.22 and will be removed in version 0.24.\n",
            "  warnings.warn(msg, category=FutureWarning)\n",
            "/usr/local/lib/python3.6/dist-packages/lightgbm/basic.py:1209: UserWarning: categorical_feature in Dataset is overridden.\n",
            "New categorical_feature is [16, 17, 18]\n",
            "  'New categorical_feature is {}'.format(sorted(list(categorical_feature))))\n"
          ],
          "name": "stderr"
        },
        {
          "output_type": "stream",
          "text": [
            "0.9987363255121945\n"
          ],
          "name": "stdout"
        },
        {
          "output_type": "stream",
          "text": [
            "/usr/local/lib/python3.6/dist-packages/sklearn/utils/deprecation.py:87: FutureWarning: Function safe_indexing is deprecated; safe_indexing is deprecated in version 0.22 and will be removed in version 0.24.\n",
            "  warnings.warn(msg, category=FutureWarning)\n",
            "/usr/local/lib/python3.6/dist-packages/lightgbm/basic.py:1209: UserWarning: categorical_feature in Dataset is overridden.\n",
            "New categorical_feature is [16, 17, 18]\n",
            "  'New categorical_feature is {}'.format(sorted(list(categorical_feature))))\n"
          ],
          "name": "stderr"
        },
        {
          "output_type": "stream",
          "text": [
            "0.9997906569133391\n"
          ],
          "name": "stdout"
        },
        {
          "output_type": "stream",
          "text": [
            "/usr/local/lib/python3.6/dist-packages/sklearn/utils/deprecation.py:87: FutureWarning: Function safe_indexing is deprecated; safe_indexing is deprecated in version 0.22 and will be removed in version 0.24.\n",
            "  warnings.warn(msg, category=FutureWarning)\n",
            "/usr/local/lib/python3.6/dist-packages/lightgbm/basic.py:1209: UserWarning: categorical_feature in Dataset is overridden.\n",
            "New categorical_feature is [16, 17, 18]\n",
            "  'New categorical_feature is {}'.format(sorted(list(categorical_feature))))\n"
          ],
          "name": "stderr"
        },
        {
          "output_type": "stream",
          "text": [
            "0.9989530956586027\n"
          ],
          "name": "stdout"
        },
        {
          "output_type": "stream",
          "text": [
            "/usr/local/lib/python3.6/dist-packages/sklearn/utils/deprecation.py:87: FutureWarning: Function safe_indexing is deprecated; safe_indexing is deprecated in version 0.22 and will be removed in version 0.24.\n",
            "  warnings.warn(msg, category=FutureWarning)\n",
            "/usr/local/lib/python3.6/dist-packages/lightgbm/basic.py:1209: UserWarning: categorical_feature in Dataset is overridden.\n",
            "New categorical_feature is [16, 17, 18]\n",
            "  'New categorical_feature is {}'.format(sorted(list(categorical_feature))))\n"
          ],
          "name": "stderr"
        },
        {
          "output_type": "stream",
          "text": [
            "0.9993718483789663\n",
            "Average:  0.999286746933692\n"
          ],
          "name": "stdout"
        }
      ]
    },
    {
      "cell_type": "code",
      "metadata": {
        "id": "rW7Z-ab0Hx0F",
        "colab_type": "code",
        "outputId": "58c8baf9-f0a9-4984-f545-0820a43bc3bc",
        "colab": {
          "base_uri": "https://localhost:8080/",
          "height": 636
        }
      },
      "source": [
        "X_train.info()"
      ],
      "execution_count": 29,
      "outputs": [
        {
          "output_type": "stream",
          "text": [
            "<class 'pandas.core.frame.DataFrame'>\n",
            "RangeIndex: 23856 entries, 0 to 23855\n",
            "Data columns (total 30 columns):\n",
            " #   Column            Non-Null Count  Dtype   \n",
            "---  ------            --------------  -----   \n",
            " 0   X_1               23856 non-null  int64   \n",
            " 1   X_2               23856 non-null  int64   \n",
            " 2   X_3               23856 non-null  int64   \n",
            " 3   X_4               23856 non-null  int64   \n",
            " 4   X_5               23856 non-null  int64   \n",
            " 5   X_6               23856 non-null  int64   \n",
            " 6   X_7               23856 non-null  int64   \n",
            " 7   X_8               23856 non-null  int64   \n",
            " 8   X_9               23856 non-null  int64   \n",
            " 9   X_10              23856 non-null  int64   \n",
            " 10  X_11              23856 non-null  int64   \n",
            " 11  X_12              23856 non-null  float64 \n",
            " 12  X_13              23856 non-null  int64   \n",
            " 13  X_14              23856 non-null  int64   \n",
            " 14  X_15              23856 non-null  int64   \n",
            " 15  Date              23856 non-null  category\n",
            " 16  Month             23856 non-null  category\n",
            " 17  Year2             23856 non-null  category\n",
            " 18  Dayofweek         23856 non-null  int64   \n",
            " 19  DayOfyear         23856 non-null  int64   \n",
            " 20  Week              23856 non-null  int64   \n",
            " 21  Quarter           23856 non-null  int64   \n",
            " 22  Is_month_start    23856 non-null  int64   \n",
            " 23  Is_month_end      23856 non-null  int64   \n",
            " 24  Is_quarter_start  23856 non-null  int64   \n",
            " 25  Is_quarter_end    23856 non-null  int64   \n",
            " 26  Is_year_start     23856 non-null  int64   \n",
            " 27  Is_year_end       23856 non-null  int64   \n",
            " 28  Is_weekend        23856 non-null  int64   \n",
            " 29  Is_weekday        23856 non-null  int64   \n",
            "dtypes: category(3), float64(1), int64(26)\n",
            "memory usage: 5.0 MB\n"
          ],
          "name": "stdout"
        }
      ]
    },
    {
      "cell_type": "code",
      "metadata": {
        "id": "--jVLYjoMHl_",
        "colab_type": "code",
        "outputId": "5f3a011f-3915-487c-c752-a4b44a1f9b26",
        "colab": {
          "base_uri": "https://localhost:8080/",
          "height": 100
        }
      },
      "source": [
        "x_test=data[23856:]\n",
        "\n",
        "x_test.drop(columns=\"MULTIPLE_OFFENSE\" , inplace =True)"
      ],
      "execution_count": 31,
      "outputs": [
        {
          "output_type": "stream",
          "text": [
            "/usr/local/lib/python3.6/dist-packages/pandas/core/frame.py:3997: SettingWithCopyWarning: \n",
            "A value is trying to be set on a copy of a slice from a DataFrame\n",
            "\n",
            "See the caveats in the documentation: https://pandas.pydata.org/pandas-docs/stable/user_guide/indexing.html#returning-a-view-versus-a-copy\n",
            "  errors=errors,\n"
          ],
          "name": "stderr"
        }
      ]
    },
    {
      "cell_type": "code",
      "metadata": {
        "id": "Brb8S_k9MVft",
        "colab_type": "code",
        "outputId": "5fce3513-2383-4d66-92a5-36154f4c2071",
        "colab": {
          "base_uri": "https://localhost:8080/",
          "height": 67
        }
      },
      "source": [
        "model = LGBMClassifier(random_state=27, n_estimators=1000, max_depth=4, verbose=500)\n",
        "model.fit(X_train, Y_train, categorical_feature=[18, 17, 16])\n",
        "preds1 = model.predict(x_test)\n"
      ],
      "execution_count": 32,
      "outputs": [
        {
          "output_type": "stream",
          "text": [
            "/usr/local/lib/python3.6/dist-packages/lightgbm/basic.py:1209: UserWarning: categorical_feature in Dataset is overridden.\n",
            "New categorical_feature is [16, 17, 18]\n",
            "  'New categorical_feature is {}'.format(sorted(list(categorical_feature))))\n"
          ],
          "name": "stderr"
        }
      ]
    },
    {
      "cell_type": "code",
      "metadata": {
        "id": "OwvInWWyND-L",
        "colab_type": "code",
        "colab": {}
      },
      "source": [
        "np.unique(preds1)\n",
        "(unique, counts) = np.unique(preds1, return_counts=True)\n",
        "frequencies = np.asarray((unique, counts)).T\n",
        "\n"
      ],
      "execution_count": 0,
      "outputs": []
    },
    {
      "cell_type": "code",
      "metadata": {
        "id": "cnA1GXbXOAeU",
        "colab_type": "code",
        "colab": {}
      },
      "source": [
        "\n",
        "final=pd.DataFrame()\n",
        "final['INCIDENT_ID'] = test['INCIDENT_ID']\n",
        "final['MULTIPLE_OFFENSE'] = preds1\n",
        "\n",
        "final.to_csv('solution_1.csv', index=False)"
      ],
      "execution_count": 0,
      "outputs": []
    },
    {
      "cell_type": "code",
      "metadata": {
        "id": "m_vYw7-TOhhr",
        "colab_type": "code",
        "outputId": "649aa655-a4fc-41fc-93bd-84d3e9cd30f1",
        "colab": {
          "base_uri": "https://localhost:8080/",
          "height": 609
        }
      },
      "source": [
        "feat_imp = pd.Series(model.feature_importances_, index=X_train.columns)\n",
        "feat_imp.nlargest(30).plot(kind='barh', figsize=(8,10))\n"
      ],
      "execution_count": 35,
      "outputs": [
        {
          "output_type": "execute_result",
          "data": {
            "text/plain": [
              "<matplotlib.axes._subplots.AxesSubplot at 0x7f51c8749dd8>"
            ]
          },
          "metadata": {
            "tags": []
          },
          "execution_count": 35
        },
        {
          "output_type": "display_data",
          "data": {
            "image/png": "[encoded data removed]",
            "text/plain": [
              "<Figure size 576x720 with 1 Axes>"
            ]
          },
          "metadata": {
            "tags": [],
            "needs_background": "light"
          }
        }
      ]
    }
  ]
}